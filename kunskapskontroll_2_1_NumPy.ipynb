{
 "cells": [
  {
   "cell_type": "markdown",
   "id": "dacf74e6",
   "metadata": {},
   "source": [
    "# NumPy"
   ]
  },
  {
   "cell_type": "markdown",
   "id": "01b2bf34",
   "metadata": {},
   "source": [
    "Read the links: https://numpy.org/doc/stable/user/quickstart.html  and https://numpy.org/doc/stable/user/basics.broadcasting.html  before solving the exercises. "
   ]
  },
  {
   "cell_type": "code",
   "execution_count": 3,
   "id": "1f79e4a6",
   "metadata": {},
   "outputs": [],
   "source": [
    "import numpy as np"
   ]
  },
  {
   "cell_type": "markdown",
   "id": "7dae6889",
   "metadata": {},
   "source": [
    "### Print out the dimension (number of axes), shape, size and the datatype of the matrix A."
   ]
  },
  {
   "cell_type": "code",
   "execution_count": 4,
   "id": "7b3678cd",
   "metadata": {},
   "outputs": [],
   "source": [
    "A = np.arange(1, 16).reshape(3,5)"
   ]
  },
  {
   "cell_type": "code",
   "execution_count": null,
   "id": "31d39235",
   "metadata": {},
   "outputs": [
    {
     "name": "stdout",
     "output_type": "stream",
     "text": [
      "Number of axes: 2\n",
      "Shape of matrix: (3, 5)\n",
      "Size of matrix (number of elements): 15\n",
      "Data type of matrix elements: int64\n"
     ]
    }
   ],
   "source": [
    "print(f\"Number of axes in matrix A: {A.ndim}\")\n",
    "print(f\"Shape of matrix A: {A.shape}\")\n",
    "print(f\"Size of matrix A (number of elements): {A.size}\")\n",
    "print(f\"Data type of matrix A's elements: {A.dtype}\")"
   ]
  },
  {
   "cell_type": "markdown",
   "id": "e56d2a96",
   "metadata": {},
   "source": [
    "### Do the following computations on the matrices B and C: \n",
    "* Elementwise subtraction. \n",
    "* Elementwise multiplication. \n",
    "* Matrix multiplication (by default you should use the @ operator)."
   ]
  },
  {
   "cell_type": "code",
   "execution_count": 18,
   "id": "a7053fbb",
   "metadata": {},
   "outputs": [
    {
     "name": "stdout",
     "output_type": "stream",
     "text": [
      "Matrix B:\n",
      "[[1 2 3]\n",
      " [4 5 6]\n",
      " [7 8 9]]\n",
      "\n",
      "Matrix C:\n",
      "[[2. 2. 2.]\n",
      " [2. 2. 2.]\n",
      " [2. 2. 2.]]\n"
     ]
    }
   ],
   "source": [
    "B = np.arange(1, 10).reshape(3, 3)\n",
    "C = np.ones((3, 3))*2\n",
    "\n",
    "print(\"Matrix B:\")\n",
    "print(B)\n",
    "print()\n",
    "print(\"Matrix C:\")\n",
    "print(C)"
   ]
  },
  {
   "cell_type": "code",
   "execution_count": 23,
   "id": "3cd794ae",
   "metadata": {},
   "outputs": [
    {
     "name": "stdout",
     "output_type": "stream",
     "text": [
      "Elementwise subtraction B - C :\n",
      "[[-1.  0.  1.]\n",
      " [ 2.  3.  4.]\n",
      " [ 5.  6.  7.]]\n",
      "\n",
      "Elementwise multiplication B * C:\n",
      "[[ 2.  4.  6.]\n",
      " [ 8. 10. 12.]\n",
      " [14. 16. 18.]]\n",
      "\n",
      "Matrix multiplication B @ C:\n",
      "[[12. 12. 12.]\n",
      " [30. 30. 30.]\n",
      " [48. 48. 48.]]\n"
     ]
    }
   ],
   "source": [
    "print(\"Elementwise subtraction B - C :\")\n",
    "print(B - C)\n",
    "print()\n",
    "\n",
    "print(\"Elementwise multiplication B * C:\")\n",
    "print(B * C)\n",
    "print()\n",
    "\n",
    "print(\"Matrix multiplication B @ C:\")\n",
    "print(B @ C)"
   ]
  },
  {
   "cell_type": "markdown",
   "id": "96030d53",
   "metadata": {},
   "source": [
    "### Do the following calculations on the matrix:\n",
    "* Exponentiate each number elementwise (use the np.exp function).\n",
    "\n",
    "* Calculate the minimum value in the whole matrix. \n",
    "* Calculcate the minimum value in each row. \n",
    "* Calculcate the minimum value in each column. \n",
    "\n",
    "\n",
    "* Find the index value for the minimum value in the whole matrix (hint: use np.argmin).\n",
    "* Find the index value for the minimum value in each row (hint: use np.argmin).\n",
    "\n",
    "\n",
    "* Calculate the sum for all elements.\n",
    "* Calculate the mean for each column. \n",
    "* Calculate the median for each column. "
   ]
  },
  {
   "cell_type": "code",
   "execution_count": null,
   "id": "f03f24f7",
   "metadata": {},
   "outputs": [
    {
     "name": "stdout",
     "output_type": "stream",
     "text": [
      "B:\n",
      "[[12 23  9]\n",
      " [ 1  3 11]\n",
      " [35  2 22]\n",
      " [13  8  7]]\n",
      "\n",
      "np.exp(B)\n",
      "[[1.62754791e+05 9.74480345e+09 8.10308393e+03]\n",
      " [2.71828183e+00 2.00855369e+01 5.98741417e+04]\n",
      " [1.58601345e+15 7.38905610e+00 3.58491285e+09]\n",
      " [4.42413392e+05 2.98095799e+03 1.09663316e+03]]\n",
      "\n",
      "the minimum value in the whole matrix\n",
      "1\n",
      "\n",
      "The minimum value in each row:\n",
      "[9 1 2 7]\n",
      "\n",
      "The minimum value in each column:\n",
      "[1 2 7]\n",
      "\n",
      "The index smallest element in the matrix is in row 1, and col 0\n",
      "(1, 0)\n",
      "\n",
      "The index value for the minimum value in each row:\n",
      "[2 0 1 2]\n",
      "\n",
      "The sum for all elements:\n",
      "146\n",
      "The mean for each column:\n",
      "[15.25  9.   12.25]\n",
      "The median for each column:\n",
      "[12.5  5.5 10. ]\n"
     ]
    }
   ],
   "source": [
    "print(\"B:\")\n",
    "print(B)\n",
    "print()\n",
    "\n",
    "# Exponentiate each number elementwise (use the np.exp function).\n",
    "print(\"np.exp(B)\")\n",
    "print(np.exp(B))\n",
    "print()\n",
    "\n",
    "\n",
    "# Calculate the minimum value in the whole matrix. \n",
    "print(\"the minimum value in the whole matrix\")\n",
    "print(np.min(B))\n",
    "print()\n",
    "\n",
    "#Calculcate the minimum value in each row. \n",
    "print(\"The minimum value in each row:\")\n",
    "print(np.min(B, axis=1))\n",
    "print()\n",
    "\n",
    "# Calculcate the minimum value in each column. \n",
    "print(\"The minimum value in each column:\")\n",
    "print(np.min(B, axis=0))\n",
    "print()\n",
    "\n",
    "\n",
    "# Find the index value for the minimum value in the whole matrix (hint: use np.argmin).\n",
    "(idx_row, idx_col) = np.unravel_index(np.argmin(B), B.shape)\n",
    "print(f\"The index smallest element in the matrix is in row {idx_row}, and col {idx_col}\")\n",
    "print(f\"({idx_row}, {idx_col})\")\n",
    "print()\n",
    "\n",
    "# Find the index value for the minimum value in each row (hint: use np.argmin).\n",
    "print(\"The index value for the minimum value in each row:\")\n",
    "print(np.argmin(B, axis=1))\n",
    "print()"
   ]
  },
  {
   "cell_type": "code",
   "execution_count": 55,
   "id": "08530a30",
   "metadata": {},
   "outputs": [
    {
     "name": "stdout",
     "output_type": "stream",
     "text": [
      "The sum for all elements:\n",
      "146\n",
      "\n",
      "The mean for each column:\n",
      "[15.25  9.   12.25]\n",
      "\n",
      "The median for each column:\n",
      "[12.5  5.5 10. ]\n",
      "\n"
     ]
    }
   ],
   "source": [
    "# Calculate the sum for all elements.\n",
    "print(\"The sum for all elements:\")\n",
    "print(np.sum(B))\n",
    "print()\n",
    "\n",
    "# Calculate the mean for each column. \n",
    "print(\"The mean for each column:\")\n",
    "print(np.mean(B, axis=0))\n",
    "print()\n",
    "\n",
    "# Calculate the median for each column. \n",
    "print(\"The median for each column:\")\n",
    "print(np.median(B, axis=0))\n",
    "print()\n"
   ]
  },
  {
   "cell_type": "code",
   "execution_count": 56,
   "id": "65d1fa82",
   "metadata": {},
   "outputs": [
    {
     "name": "stdout",
     "output_type": "stream",
     "text": [
      "The index of the smallest element in the matrix in each row:\n",
      "[2 0 1 2]\n",
      "\n",
      "In row 0 the smallest element has column index 2  i.e.  (0, 2)\n",
      "In row 1 the smallest element has column index 0  i.e.  (1, 0)\n",
      "In row 2 the smallest element has column index 1  i.e.  (2, 1)\n",
      "In row 3 the smallest element has column index 2  i.e.  (3, 2)\n"
     ]
    }
   ],
   "source": [
    "# Find the index value for the minimum value in each row (hint: use np.argmin).\n",
    "print(\"The index of the smallest element in the matrix in each row:\")\n",
    "result = np.argmin(B, axis=1)\n",
    "print(result)\n",
    "print()\n",
    "\n",
    "# Skriv ut resultatet\n",
    "for row_index, col_index in enumerate(min_element_is_in_column):\n",
    "    print(f\"In row {row_index} the smallest element has column index {col_index}  i.e.  ({row_index}, {col_index})\")\n",
    "\n",
    "# Calculate the sum for all elements.\n",
    "# Calculate the mean for each column. \n",
    "# Calculate the median for each column. \n",
    "\n"
   ]
  },
  {
   "cell_type": "markdown",
   "id": "541eb7ba",
   "metadata": {},
   "source": [
    "### What does it mean when you provide fewer indices than axes when slicing? See example below."
   ]
  },
  {
   "cell_type": "code",
   "execution_count": 68,
   "id": "9c8abf56",
   "metadata": {},
   "outputs": [
    {
     "name": "stdout",
     "output_type": "stream",
     "text": [
      "[[ 1  2  3  4  5]\n",
      " [ 6  7  8  9 10]\n",
      " [11 12 13 14 15]]\n"
     ]
    }
   ],
   "source": [
    "print(A)"
   ]
  },
  {
   "cell_type": "code",
   "execution_count": 69,
   "id": "69415f7b",
   "metadata": {},
   "outputs": [
    {
     "data": {
      "text/plain": [
       "array([ 6,  7,  8,  9, 10])"
      ]
     },
     "execution_count": 69,
     "metadata": {},
     "output_type": "execute_result"
    }
   ],
   "source": [
    "A[1]"
   ]
  },
  {
   "cell_type": "markdown",
   "id": "6c53541b",
   "metadata": {},
   "source": [
    "**Answer:**"
   ]
  },
  {
   "cell_type": "code",
   "execution_count": null,
   "id": "de01e120",
   "metadata": {},
   "outputs": [],
   "source": [
    "# You get an array of elements on that index. If it is the second last axis the array will have only one dimension\n",
    "# otherwise you will get a matrix"
   ]
  },
  {
   "cell_type": "markdown",
   "id": "6652d0c9",
   "metadata": {},
   "source": [
    "### Iterating over multidimensional arrays is done with respect to the first axis, so in the example below we iterate trough the rows. If you would like to iterate through the array *elementwise*, how would you do that?"
   ]
  },
  {
   "cell_type": "code",
   "execution_count": 70,
   "id": "9459864f",
   "metadata": {},
   "outputs": [
    {
     "data": {
      "text/plain": [
       "array([[ 1,  2,  3,  4,  5],\n",
       "       [ 6,  7,  8,  9, 10],\n",
       "       [11, 12, 13, 14, 15]])"
      ]
     },
     "execution_count": 70,
     "metadata": {},
     "output_type": "execute_result"
    }
   ],
   "source": [
    "A"
   ]
  },
  {
   "cell_type": "code",
   "execution_count": 71,
   "id": "a671bb5a",
   "metadata": {},
   "outputs": [
    {
     "name": "stdout",
     "output_type": "stream",
     "text": [
      "[1 2 3 4 5]\n",
      "[ 6  7  8  9 10]\n",
      "[11 12 13 14 15]\n"
     ]
    }
   ],
   "source": [
    "for i in A:\n",
    "    print(i)"
   ]
  },
  {
   "cell_type": "code",
   "execution_count": 72,
   "id": "f4e443a0",
   "metadata": {},
   "outputs": [
    {
     "data": {
      "text/plain": [
       "array([ 1,  2,  3,  4,  5,  6,  7,  8,  9, 10, 11, 12, 13, 14, 15])"
      ]
     },
     "execution_count": 72,
     "metadata": {},
     "output_type": "execute_result"
    }
   ],
   "source": [
    "np.ravel(A)"
   ]
  },
  {
   "cell_type": "markdown",
   "id": "608a2583",
   "metadata": {},
   "source": [
    "### Explain what the code below does. More specifically, b has three axes - what does this mean? "
   ]
  },
  {
   "cell_type": "code",
   "execution_count": null,
   "id": "f8f9b26f",
   "metadata": {},
   "outputs": [
    {
     "name": "stdout",
     "output_type": "stream",
     "text": [
      "[ 0  1  2  3  4  5  6  7  8  9 10 11 12 13 14 15 16 17 18 19 20 21 22 23\n",
      " 24 25 26 27 28 29]\n",
      "\n",
      "[[[ 0  1  2  3  4]\n",
      "  [ 5  6  7  8  9]\n",
      "  [10 11 12 13 14]]\n",
      "\n",
      " [[15 16 17 18 19]\n",
      "  [20 21 22 23 24]\n",
      "  [25 26 27 28 29]]]\n"
     ]
    }
   ],
   "source": [
    "a = np.arange(30)               # render a range (a) from 0 to 30 (not included)\n",
    "b = a.reshape((2, 3, -1))       # take the values in a and produce a martrix (in this case with 3 axis)\n",
    "                                # the '-1' in this case means that the 3:rd axis will get \"the rest\" of the\n",
    "                                # elements, i.e. numpy will calculate the size of the axis\n",
    "print(a)\n",
    "print()\n",
    "\n",
    "print(b)"
   ]
  },
  {
   "cell_type": "code",
   "execution_count": null,
   "id": "863a45df",
   "metadata": {},
   "outputs": [],
   "source": []
  },
  {
   "cell_type": "code",
   "execution_count": null,
   "id": "eed38bbb-dd20-4d23-837f-679aa3d3a067",
   "metadata": {},
   "outputs": [],
   "source": []
  },
  {
   "cell_type": "markdown",
   "id": "421c9607-819a-401d-949a-97424436fe29",
   "metadata": {},
   "source": [
    "# For the exercises below, read the document *\"matematik_yh_antonio_vektorer_matriser_utdrag\"*\n",
    "# Solutions to the exercises and recorded videos can be found here: https://github.com/AntonioPrgomet/matematik_foer_yh\n",
    "\n",
    "# If you find the exercises below very hard, do not worry. Try your best, that will be enough. "
   ]
  },
  {
   "cell_type": "markdown",
   "id": "ab5933d5",
   "metadata": {},
   "source": [
    "### Broadcasting\n",
    "**Read the following link about broadcasting: https://numpy.org/doc/stable/user/basics.broadcasting.html#basics-broadcasting**"
   ]
  },
  {
   "cell_type": "markdown",
   "id": "039805ba",
   "metadata": {},
   "source": [
    "# Remark on Broadcasting when doing Linear Algebra calculations in Python. "
   ]
  },
  {
   "cell_type": "markdown",
   "id": "c4bcc147",
   "metadata": {},
   "source": [
    "### From the mathematical rules of matrix addition, the operation below (m1 + m2) does not make sense. The reason is that matrix addition requires two matrices of the same size. In Python however, it works due to broadcasting rules in NumPy. So you must be careful when doing Linear Algebra calculations in Python since they do not follow the \"mathematical rules\". This can however easily be handled by doing some simple programming, for example validating that two matrices have the same shape is easy if you for instance want to add two matrices. "
   ]
  },
  {
   "cell_type": "code",
   "execution_count": 75,
   "id": "1fd46778",
   "metadata": {},
   "outputs": [
    {
     "name": "stdout",
     "output_type": "stream",
     "text": [
      "[[2 3]\n",
      " [4 5]]\n"
     ]
    }
   ],
   "source": [
    "m1 = np.array([[1, 2], [3, 4]])\n",
    "m2 = np.array([1, 1])\n",
    "print(m1 + m2)"
   ]
  },
  {
   "cell_type": "markdown",
   "id": "047d6576",
   "metadata": {},
   "source": [
    "### The example below would also not be allowed if following the \"mathematical rules\" in Linear Algebra. But it works due to broadcasting in NumPy. "
   ]
  },
  {
   "cell_type": "code",
   "execution_count": 76,
   "id": "5e6ef2e4",
   "metadata": {},
   "outputs": [
    {
     "name": "stdout",
     "output_type": "stream",
     "text": [
      "[2 3 4]\n"
     ]
    }
   ],
   "source": [
    "v1 = np.array([1, 2, 3])\n",
    "print(v1 + 1)"
   ]
  },
  {
   "cell_type": "code",
   "execution_count": 83,
   "id": "e2cbae26",
   "metadata": {},
   "outputs": [
    {
     "name": "stdout",
     "output_type": "stream",
     "text": [
      "[[1 2]\n",
      " [3 4]]\n",
      "[2 2]\n"
     ]
    }
   ],
   "source": [
    "A = np.arange(1, 5).reshape(2,2)\n",
    "print(A)\n",
    "\n",
    "b = np.array([2, 2])\n",
    "print(b)"
   ]
  },
  {
   "cell_type": "markdown",
   "id": "722fd5cd",
   "metadata": {},
   "source": [
    "# Vector- and matrix algebra Exercises"
   ]
  },
  {
   "cell_type": "markdown",
   "id": "b63a3081-d976-4d9f-bfd0-a63917e79f7d",
   "metadata": {},
   "source": [
    "**Now you are going to create a function that can be reused every time you add or multiply matrices. The function is created so that we do the addition and multiplication according to the rules of vector- and matrix algebra.**\n",
    "\n",
    "**Create a function \"add_mult_matrices\" that takes two matrices as input arguments (validate that the input are of the type numpy.ndarray by using the isinstance function), a third argument that is either 'add' or 'multiply' that specifies if you want to add or multiply the matrices (validate that the third argument is either 'add' or 'multiply'). When doing matrix addition, validate that the matrices have the same size. When doing matrix multiplication, validate that the sizes conform (i.e. number of columns in the first matrix is equal to the number of rows in the second matrix).**"
   ]
  },
  {
   "cell_type": "code",
   "execution_count": null,
   "id": "3506f977-ac0a-473f-85bc-eec9f35dc498",
   "metadata": {},
   "outputs": [
    {
     "name": "stdout",
     "output_type": "stream",
     "text": [
      "[[0 1 2 3 4]\n",
      " [5 6 7 8 9]]\n",
      "\n",
      "[[10 11 12 13 14]\n",
      " [15 16 17 18 19]]\n",
      "\n",
      "[[0 1]\n",
      " [2 3]\n",
      " [4 5]\n",
      " [6 7]\n",
      " [8 9]]\n",
      "\n",
      "ops = add\n",
      "[[10 12 14 16 18]\n",
      " [20 22 24 26 28]]\n",
      "\n",
      "ops = multiply\n",
      "[[ 30  80]\n",
      " [ 80 255]]\n",
      "\n"
     ]
    }
   ],
   "source": [
    "\n",
    "def add_mult_matrices(M1, M2, operation):\n",
    "    # Validate that both arguments ar of numpy.ndarray type\n",
    "    if not isinstance(M1, np.ndarray):\n",
    "        raise TypeError(\"M1 must be of type numpy.ndarray\")\n",
    "    if not isinstance(M2, np.ndarray):\n",
    "        raise TypeError(\"M2 must be of type numpy.ndarray\")\n",
    "\n",
    "    # Check that operation is on of 'add' or 'multiply'\n",
    "    if operation not in ('add', 'multiply'):\n",
    "        raise ValueError(\"The operation argument must be either 'add' or 'multiply'\")\n",
    "\n",
    "    if operation == 'add':\n",
    "        # Validate that the matrices have the same shape\n",
    "        if M1.shape != M2.shape:\n",
    "            raise ValueError(\"For addition, matrices must have the same shape\")\n",
    "        return M1 + M2\n",
    "\n",
    "    elif operation == 'multiply':\n",
    "        # Check that the number of columns in the first matrix is\n",
    "        # the same as the number of rows in the second\n",
    "        if M1.shape[1] != M2.shape[0]:\n",
    "            raise ValueError(\"For multiplication, the number of columns in M1 must equal the number of rows in M2\")\n",
    "        return M1 @ M2\n",
    "\n",
    "A = np.arange(10).reshape(2,-1)\n",
    "AT = np.transpose(A)\n",
    "B = np.arange(10, 20).reshape(2,-1)\n",
    "C = np.arange(10).reshape(-1,2)\n",
    "\n",
    "print(A)\n",
    "print()\n",
    "print(B)\n",
    "print()\n",
    "print(C)\n",
    "print()\n",
    "\n",
    "print(\"ops = add\")\n",
    "print(add_mult_matrices(A, B, \"add\"))\n",
    "print()\n",
    "\n",
    "print(\"ops = multiply\")\n",
    "print(add_mult_matrices(A, AT, \"multiply\"))\n",
    "print()\n",
    "\n",
    "# print(\"ops = subtract (bad option)\")\n",
    "# print(add_mult_matrices(A, B, \"subtract\"))\n",
    "# print()\n",
    "\n",
    "# print(\"A C different shapes, ops = add\")\n",
    "# print(add_mult_matrices(A, C, \"add\"))\n",
    "# print()\n",
    "\n",
    "# print(\"ops = multiply (not matching rows and columns)\")\n",
    "# print(add_mult_matrices(A, B, \"multiply\"))\n",
    "# print()\n",
    "\n"
   ]
  },
  {
   "cell_type": "markdown",
   "id": "8dad82d0-2359-4dff-8f5b-a57d3e34103c",
   "metadata": {},
   "source": [
    "### Solve all the exercises in chapter 10.1 in the book \"Matematik för yrkeshögskolan\". "
   ]
  },
  {
   "cell_type": "code",
   "execution_count": null,
   "id": "89df88af-3668-4d98-a0a4-e6d92eea0f89",
   "metadata": {},
   "outputs": [],
   "source": []
  },
  {
   "cell_type": "markdown",
   "id": "75c98984-1f88-4df1-b850-d2466de444a5",
   "metadata": {},
   "source": [
    "### Solve all the exercises, except 10.2.4, in chapter 10.2 in the book \"Matematik för yrkeshögskolan\". "
   ]
  },
  {
   "cell_type": "code",
   "execution_count": null,
   "id": "65371610-16e1-48b2-b7fb-65e49002608a",
   "metadata": {},
   "outputs": [],
   "source": []
  },
  {
   "cell_type": "markdown",
   "id": "6a4a524f",
   "metadata": {},
   "source": [
    "### Copies and Views\n",
    "Read the following link: https://numpy.org/doc/stable/user/basics.copies.html"
   ]
  },
  {
   "cell_type": "markdown",
   "id": "6cbbeaf7",
   "metadata": {},
   "source": [
    "**Basic indexing creates a view, How can you check if v1 and v2 is a view or copy? If you change the last element in v2 to 123, will the last element in v1 be changed? Why?**"
   ]
  },
  {
   "cell_type": "code",
   "execution_count": null,
   "id": "5b9ef4df",
   "metadata": {},
   "outputs": [],
   "source": [
    "v1 = np.arange(4)\n",
    "v2 = v1[-2:]\n",
    "print(v1)\n",
    "print(v2)"
   ]
  },
  {
   "cell_type": "code",
   "execution_count": null,
   "id": "d2440489",
   "metadata": {},
   "outputs": [],
   "source": [
    "# The base attribute of a view returns the original array while it returns None for a copy.\n",
    "print(v1.base)\n",
    "print(v2.base)"
   ]
  },
  {
   "cell_type": "code",
   "execution_count": null,
   "id": "c8752807",
   "metadata": {},
   "outputs": [],
   "source": [
    "# The last element in v1 will be changed aswell since v2 is a view, meaning they share the same data buffer.\n",
    "v2[-1] = 123\n",
    "print(v1)\n",
    "print(v2)"
   ]
  },
  {
   "cell_type": "code",
   "execution_count": null,
   "id": "3dd68221",
   "metadata": {},
   "outputs": [],
   "source": []
  }
 ],
 "metadata": {
  "kernelspec": {
   "display_name": "Kursboken_uppgifter",
   "language": "python",
   "name": "python3"
  },
  "language_info": {
   "codemirror_mode": {
    "name": "ipython",
    "version": 3
   },
   "file_extension": ".py",
   "mimetype": "text/x-python",
   "name": "python",
   "nbconvert_exporter": "python",
   "pygments_lexer": "ipython3",
   "version": "3.12.9"
  }
 },
 "nbformat": 4,
 "nbformat_minor": 5
}
